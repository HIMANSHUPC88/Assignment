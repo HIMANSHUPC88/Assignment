{
 "cells": [
  {
   "cell_type": "markdown",
   "id": "08607651",
   "metadata": {},
   "source": [
    "##Q1  Which keyword is used to create a function? Create a function to return a list of odd numbers in the \n",
    " range of 1 to 25"
   ]
  },
  {
   "cell_type": "code",
   "execution_count": 62,
   "id": "4543079b-4a51-4b3e-b34c-0c136da80bd5",
   "metadata": {},
   "outputs": [
    {
     "name": "stdout",
     "output_type": "stream",
     "text": [
      "odd_numbers: [1, 3, 5, 7, 9, 11, 13, 15, 17, 19, 21, 23, 25]\n"
     ]
    }
   ],
   "source": [
    "#Answer = def function is used to create a function.\n",
    "def odd_numbers(num):\n",
    "    odd = []\n",
    "    for i in range(num):\n",
    "        if i % 2 == 1:\n",
    "            odd.append(i)\n",
    "    return odd\n",
    "\n",
    "num = 26\n",
    "\n",
    "print (\"odd_numbers:\",odd_numbers(num)) # Answer 1 completed."
   ]
  },
  {
   "cell_type": "code",
   "execution_count": 63,
   "id": "60cbc15d",
   "metadata": {},
   "outputs": [
    {
     "data": {
      "text/plain": [
       "(1, 2, 3, 4, 'Himanshu', [1, 2, 3, 4, 5], {2, 4, 5, 6})"
      ]
     },
     "execution_count": 63,
     "metadata": {},
     "output_type": "execute_result"
    }
   ],
   "source": [
    "#Q2. Why *args and **kwargs is used in some functions? Create a function each for *args and **kwargs \n",
    "#to demonstrate their use .\n",
    "\n",
    "# Answer = *args keyword is used for putting various values in a function .\n",
    "def test(*args):\n",
    "    return args\n",
    "\n",
    "test(1,2,3,4,\"Himanshu\",[1,2,3,4,5],{2,4,5,6})               #(Part 1)"
   ]
  },
  {
   "cell_type": "code",
   "execution_count": 2,
   "id": "8b332608",
   "metadata": {},
   "outputs": [
    {
     "data": {
      "text/plain": [
       "{'a': 'Himanshu', 'b': 'pathak'}"
      ]
     },
     "execution_count": 2,
     "metadata": {},
     "output_type": "execute_result"
    }
   ],
   "source": [
    "#Answer = **kwargs keyword is used to put any value in a function and getting those value in the form of  key-value pair in a dictationary.\n",
    "\n",
    "def test_2 (**kwargs):\n",
    "    return kwargs\n",
    "\n",
    "test_2 ( a = \"Himanshu\" , b = \"pathak\")  #(Part 2) Answer2 completed."
   ]
  },
  {
   "cell_type": "code",
   "execution_count": 3,
   "id": "a8f6bc01",
   "metadata": {},
   "outputs": [
    {
     "data": {
      "text/plain": [
       "dict"
      ]
     },
     "execution_count": 3,
     "metadata": {},
     "output_type": "execute_result"
    }
   ],
   "source": [
    "type(test_2())"
   ]
  },
  {
   "cell_type": "markdown",
   "id": "76f50548-ef7d-4038-b742-1e132327d75a",
   "metadata": {},
   "source": [
    "Q3.  What is an iterator in python? Name the method used to initialise the iterator object and the method \n",
    "used for iteration. # Use these methods to print the first five elements of the given list [2, 4, 6, 8, 10, 12, 14, \n",
    "16, 18, 20]."
   ]
  },
  {
   "cell_type": "code",
   "execution_count": 31,
   "id": "79655ee1-3bee-4891-ac02-1c2573c188f0",
   "metadata": {},
   "outputs": [],
   "source": [
    "#Answer 3 = iterator is data or object  jisme se we can extract data or information with the help of next keyword. \n",
    "#iter() function is used for initialise the iterator object and the method used for iteration. \n",
    "list_1 =  [2, 4, 6, 8, 10, 12, 14, 16, 18, 20]\n",
    "list_1 = iter(list_1)"
   ]
  },
  {
   "cell_type": "code",
   "execution_count": 32,
   "id": "af866539-e8c8-4fe3-a8e9-820f6400fa91",
   "metadata": {},
   "outputs": [
    {
     "data": {
      "text/plain": [
       "2"
      ]
     },
     "execution_count": 32,
     "metadata": {},
     "output_type": "execute_result"
    }
   ],
   "source": [
    "next(list_1)"
   ]
  },
  {
   "cell_type": "code",
   "execution_count": 33,
   "id": "0f14b633-156d-40cf-862e-48393a8d4cee",
   "metadata": {},
   "outputs": [
    {
     "data": {
      "text/plain": [
       "4"
      ]
     },
     "execution_count": 33,
     "metadata": {},
     "output_type": "execute_result"
    }
   ],
   "source": [
    "next(list_1)"
   ]
  },
  {
   "cell_type": "code",
   "execution_count": 34,
   "id": "e99a9842-bec5-489d-857d-1e56dfd8c6ed",
   "metadata": {},
   "outputs": [
    {
     "data": {
      "text/plain": [
       "6"
      ]
     },
     "execution_count": 34,
     "metadata": {},
     "output_type": "execute_result"
    }
   ],
   "source": [
    "next(list_1)"
   ]
  },
  {
   "cell_type": "code",
   "execution_count": 35,
   "id": "abe94f80-440f-45a5-aac3-a6d8d8506686",
   "metadata": {},
   "outputs": [
    {
     "data": {
      "text/plain": [
       "8"
      ]
     },
     "execution_count": 35,
     "metadata": {},
     "output_type": "execute_result"
    }
   ],
   "source": [
    "next(list_1)"
   ]
  },
  {
   "cell_type": "code",
   "execution_count": 36,
   "id": "401ed498-bbfc-4d00-a5ef-cab91c00cbde",
   "metadata": {},
   "outputs": [
    {
     "data": {
      "text/plain": [
       "10"
      ]
     },
     "execution_count": 36,
     "metadata": {},
     "output_type": "execute_result"
    }
   ],
   "source": [
    "next(list_1)"
   ]
  },
  {
   "cell_type": "code",
   "execution_count": 37,
   "id": "bf3d04a8-49fc-4c50-ab8e-8e08624ab440",
   "metadata": {},
   "outputs": [],
   "source": [
    "#Answer 3 completed"
   ]
  },
  {
   "cell_type": "markdown",
   "id": "bdaaedab-e0ee-449a-a406-a252d228498f",
   "metadata": {},
   "source": [
    "Q4.  What is a generator function in python? Why yield keyword is used? Give an example of a generator \n",
    "function."
   ]
  },
  {
   "cell_type": "code",
   "execution_count": 21,
   "id": "c49b59bc-f421-46c0-98d9-fd1c756ea395",
   "metadata": {},
   "outputs": [
    {
     "data": {
      "text/plain": [
       "64"
      ]
     },
     "execution_count": 21,
     "metadata": {},
     "output_type": "execute_result"
    }
   ],
   "source": [
    "#Answer 4  = Generator function is  a block of code which is used for perforn a task of sertain area  yield keyword is used to  through out any  data for output . \n",
    "def cube(num):\n",
    "    return num**3 \n",
    "num = 3\n",
    "\n",
    "cube(4)\n",
    "# Answer 4 completed"
   ]
  },
  {
   "cell_type": "markdown",
   "id": "200bdc5b-627f-4b90-b941-745bc453e20f",
   "metadata": {},
   "source": [
    "Q5. Create a generator function for prime numbers less than 1000. Use the next() method to print the \n",
    "first 20 prime numbers"
   ]
  },
  {
   "cell_type": "code",
   "execution_count": null,
   "id": "15313c82-0d67-4eac-96ed-e91bd818da81",
   "metadata": {},
   "outputs": [],
   "source": [
    "#Answer 5\n",
    "def prime_num(n):\n",
    "    prime = []\n",
    "    for i in range(n):\n",
    "        if i%2==0:\n",
    "            prime.append(i)\n",
    "    return prime\n",
    "\n",
    "n = 1000"
   ]
  },
  {
   "cell_type": "code",
   "execution_count": null,
   "id": "5e22cf4c-4b3b-48c9-8d76-de329cf0377d",
   "metadata": {},
   "outputs": [],
   "source": [
    "prime_num = iter(prime_num)"
   ]
  },
  {
   "cell_type": "code",
   "execution_count": 70,
   "id": "ddfe4831-25f5-4d40-9d55-5c8e87069420",
   "metadata": {},
   "outputs": [
    {
     "data": {
      "text/plain": [
       "0"
      ]
     },
     "execution_count": 70,
     "metadata": {},
     "output_type": "execute_result"
    }
   ],
   "source": [
    "next(prime_num)"
   ]
  },
  {
   "cell_type": "code",
   "execution_count": 71,
   "id": "a478422f-6297-4df7-a4a5-b5db30171d4d",
   "metadata": {},
   "outputs": [
    {
     "data": {
      "text/plain": [
       "2"
      ]
     },
     "execution_count": 71,
     "metadata": {},
     "output_type": "execute_result"
    }
   ],
   "source": [
    "next(prime_num)"
   ]
  },
  {
   "cell_type": "code",
   "execution_count": 73,
   "id": "8180ac6f-0624-46ea-b1b9-f4e983b6479e",
   "metadata": {},
   "outputs": [
    {
     "data": {
      "text/plain": [
       "4"
      ]
     },
     "execution_count": 73,
     "metadata": {},
     "output_type": "execute_result"
    }
   ],
   "source": [
    "next(prime_num)"
   ]
  },
  {
   "cell_type": "code",
   "execution_count": 74,
   "id": "acc4bf20-a30a-4212-8517-790f0e4c134d",
   "metadata": {},
   "outputs": [
    {
     "data": {
      "text/plain": [
       "6"
      ]
     },
     "execution_count": 74,
     "metadata": {},
     "output_type": "execute_result"
    }
   ],
   "source": [
    "next(prime_num)"
   ]
  },
  {
   "cell_type": "code",
   "execution_count": 75,
   "id": "6ed625c1-2311-4c92-9e44-b689f8169807",
   "metadata": {},
   "outputs": [
    {
     "data": {
      "text/plain": [
       "8"
      ]
     },
     "execution_count": 75,
     "metadata": {},
     "output_type": "execute_result"
    }
   ],
   "source": [
    "next(prime_num)"
   ]
  },
  {
   "cell_type": "code",
   "execution_count": 76,
   "id": "b7d9a7ea-2411-48b1-9678-354eb7d20c36",
   "metadata": {},
   "outputs": [
    {
     "data": {
      "text/plain": [
       "10"
      ]
     },
     "execution_count": 76,
     "metadata": {},
     "output_type": "execute_result"
    }
   ],
   "source": [
    "next(prime_num)"
   ]
  },
  {
   "cell_type": "code",
   "execution_count": 77,
   "id": "398ba491-0680-44c4-9e4c-da8b4e1e28d4",
   "metadata": {},
   "outputs": [
    {
     "data": {
      "text/plain": [
       "12"
      ]
     },
     "execution_count": 77,
     "metadata": {},
     "output_type": "execute_result"
    }
   ],
   "source": [
    "next(prime_num)"
   ]
  },
  {
   "cell_type": "code",
   "execution_count": 78,
   "id": "cf42e88d-7758-43ce-9663-6b50e1cb7b5a",
   "metadata": {},
   "outputs": [
    {
     "data": {
      "text/plain": [
       "14"
      ]
     },
     "execution_count": 78,
     "metadata": {},
     "output_type": "execute_result"
    }
   ],
   "source": [
    "next(prime_num)"
   ]
  },
  {
   "cell_type": "code",
   "execution_count": 79,
   "id": "c8a27ce6-3a32-4fb8-9d27-972918c46912",
   "metadata": {},
   "outputs": [
    {
     "data": {
      "text/plain": [
       "16"
      ]
     },
     "execution_count": 79,
     "metadata": {},
     "output_type": "execute_result"
    }
   ],
   "source": [
    "next(prime_num)"
   ]
  },
  {
   "cell_type": "code",
   "execution_count": 80,
   "id": "39fb24c6-4dc6-49f5-b4a4-76669e0e791c",
   "metadata": {},
   "outputs": [
    {
     "data": {
      "text/plain": [
       "18"
      ]
     },
     "execution_count": 80,
     "metadata": {},
     "output_type": "execute_result"
    }
   ],
   "source": [
    "next(prime_num)"
   ]
  },
  {
   "cell_type": "code",
   "execution_count": 81,
   "id": "e84d6feb-80fb-4693-946d-c96365560844",
   "metadata": {},
   "outputs": [
    {
     "data": {
      "text/plain": [
       "20"
      ]
     },
     "execution_count": 81,
     "metadata": {},
     "output_type": "execute_result"
    }
   ],
   "source": [
    "next(prime_num)"
   ]
  },
  {
   "cell_type": "code",
   "execution_count": 82,
   "id": "7f98dd5f-a6fb-4c79-87c0-a2b091e03890",
   "metadata": {},
   "outputs": [
    {
     "data": {
      "text/plain": [
       "22"
      ]
     },
     "execution_count": 82,
     "metadata": {},
     "output_type": "execute_result"
    }
   ],
   "source": [
    "next(prime_num)"
   ]
  },
  {
   "cell_type": "code",
   "execution_count": 83,
   "id": "3a44b6dd-b19f-4878-8160-0cf8de4fba2a",
   "metadata": {},
   "outputs": [
    {
     "data": {
      "text/plain": [
       "24"
      ]
     },
     "execution_count": 83,
     "metadata": {},
     "output_type": "execute_result"
    }
   ],
   "source": [
    "next(prime_num)"
   ]
  },
  {
   "cell_type": "code",
   "execution_count": 84,
   "id": "56d85777-917d-477a-8caf-5f636e395182",
   "metadata": {},
   "outputs": [
    {
     "data": {
      "text/plain": [
       "26"
      ]
     },
     "execution_count": 84,
     "metadata": {},
     "output_type": "execute_result"
    }
   ],
   "source": [
    "next(prime_num)"
   ]
  },
  {
   "cell_type": "code",
   "execution_count": 85,
   "id": "f9b07b47-c53c-46fc-9ac1-0aad2b9a803e",
   "metadata": {},
   "outputs": [
    {
     "data": {
      "text/plain": [
       "28"
      ]
     },
     "execution_count": 85,
     "metadata": {},
     "output_type": "execute_result"
    }
   ],
   "source": [
    "next(prime_num)"
   ]
  },
  {
   "cell_type": "code",
   "execution_count": 86,
   "id": "83cd27e3-b5ee-4acc-8875-ff70c9caa87d",
   "metadata": {},
   "outputs": [
    {
     "data": {
      "text/plain": [
       "30"
      ]
     },
     "execution_count": 86,
     "metadata": {},
     "output_type": "execute_result"
    }
   ],
   "source": [
    "next(prime_num)"
   ]
  },
  {
   "cell_type": "code",
   "execution_count": 87,
   "id": "7451cc7c-dba2-4539-9fbf-dc1dc85bc29c",
   "metadata": {},
   "outputs": [
    {
     "data": {
      "text/plain": [
       "32"
      ]
     },
     "execution_count": 87,
     "metadata": {},
     "output_type": "execute_result"
    }
   ],
   "source": [
    "next(prime_num)"
   ]
  },
  {
   "cell_type": "code",
   "execution_count": 88,
   "id": "d922fa0c-321a-4fd6-901b-799393f9b32c",
   "metadata": {},
   "outputs": [
    {
     "data": {
      "text/plain": [
       "34"
      ]
     },
     "execution_count": 88,
     "metadata": {},
     "output_type": "execute_result"
    }
   ],
   "source": [
    "next(prime_num)"
   ]
  },
  {
   "cell_type": "code",
   "execution_count": 89,
   "id": "c1784d92-df56-4bdd-ade9-045430c572b9",
   "metadata": {},
   "outputs": [
    {
     "data": {
      "text/plain": [
       "36"
      ]
     },
     "execution_count": 89,
     "metadata": {},
     "output_type": "execute_result"
    }
   ],
   "source": [
    "next(prime_num)"
   ]
  },
  {
   "cell_type": "code",
   "execution_count": 90,
   "id": "1b697d50-6a94-4778-aec0-570db4d56612",
   "metadata": {},
   "outputs": [
    {
     "data": {
      "text/plain": [
       "38"
      ]
     },
     "execution_count": 90,
     "metadata": {},
     "output_type": "execute_result"
    }
   ],
   "source": [
    "next(prime_num)"
   ]
  },
  {
   "cell_type": "code",
   "execution_count": 91,
   "id": "80df0dd9-5202-4965-9b69-1193bff3ef3c",
   "metadata": {},
   "outputs": [
    {
     "data": {
      "text/plain": [
       "40"
      ]
     },
     "execution_count": 91,
     "metadata": {},
     "output_type": "execute_result"
    }
   ],
   "source": [
    "next(prime_num)"
   ]
  },
  {
   "cell_type": "code",
   "execution_count": 92,
   "id": "1aeeaf61-afa1-4e9a-9396-1a7976395cca",
   "metadata": {},
   "outputs": [
    {
     "data": {
      "text/plain": [
       "42"
      ]
     },
     "execution_count": 92,
     "metadata": {},
     "output_type": "execute_result"
    }
   ],
   "source": [
    "next(prime_num)"
   ]
  },
  {
   "cell_type": "code",
   "execution_count": null,
   "id": "7e1ece67-2105-4b4a-a700-08c2264c32b0",
   "metadata": {},
   "outputs": [],
   "source": [
    "# Answer 5 completed"
   ]
  },
  {
   "cell_type": "markdown",
   "id": "763d96e4-5a3b-4160-9bca-ef73a6029d5b",
   "metadata": {},
   "source": [
    "Q6. Write a python program to print the first 10 Fibonacci numbers using a while loop."
   ]
  },
  {
   "cell_type": "code",
   "execution_count": 4,
   "id": "ddfba7af-47e9-46b6-9b9a-6b6a49032389",
   "metadata": {},
   "outputs": [],
   "source": [
    "# Answer 6 \n",
    "def fib():\n",
    "    a = 0\n",
    "    b = 1 \n",
    "    while True:\n",
    "        yield a\n",
    "        a , b = b , a+b"
   ]
  },
  {
   "cell_type": "code",
   "execution_count": 5,
   "id": "e0b6eeae-7199-44db-a291-c45f655b326d",
   "metadata": {},
   "outputs": [],
   "source": [
    "fib = fib()"
   ]
  },
  {
   "cell_type": "code",
   "execution_count": 6,
   "id": "d3a1b6da-b6e6-45fc-93b8-4c41625be5c7",
   "metadata": {},
   "outputs": [
    {
     "name": "stdout",
     "output_type": "stream",
     "text": [
      "0\n",
      "1\n",
      "1\n",
      "2\n",
      "3\n",
      "5\n",
      "8\n",
      "13\n",
      "21\n",
      "34\n"
     ]
    }
   ],
   "source": [
    "for i in range(10):\n",
    "    print(next(fib))"
   ]
  },
  {
   "cell_type": "code",
   "execution_count": 7,
   "id": "495f04b3-9a7f-4e7b-aa1e-52533b82732d",
   "metadata": {},
   "outputs": [],
   "source": [
    "#Answer 6 completed"
   ]
  },
  {
   "cell_type": "markdown",
   "id": "8fea66d0-f9f4-4092-af27-771a790ea632",
   "metadata": {},
   "source": [
    "Q7. Write a List Comprehension to iterate through the given string: ‘pwskills’.\n",
    "\n",
    "Expected output: ['p', 'w', 's', 'k', 'i', 'l', 'l', 's'] "
   ]
  },
  {
   "cell_type": "code",
   "execution_count": 35,
   "id": "77e91e2a-348a-40bf-9595-be0ac6f95185",
   "metadata": {},
   "outputs": [],
   "source": [
    "# Answer 7 \n",
    "string ='pwskills'"
   ]
  },
  {
   "cell_type": "code",
   "execution_count": 47,
   "id": "4dc8567f-2705-492d-ad83-5ebc32335507",
   "metadata": {},
   "outputs": [
    {
     "data": {
      "text/plain": [
       "['p', 'w', 's', 'k', 'i', 'l', 'l', 's']"
      ]
     },
     "execution_count": 47,
     "metadata": {},
     "output_type": "execute_result"
    }
   ],
   "source": [
    "[i.lower() for i in string ]\n",
    "\n",
    "# Answer 7 completed"
   ]
  },
  {
   "cell_type": "markdown",
   "id": "e5cc29d2-d299-41c8-a848-8ab60d365014",
   "metadata": {},
   "source": [
    "Q8. Write a python program to check whether a given number is Palindrome or not using a while loop."
   ]
  },
  {
   "cell_type": "code",
   "execution_count": 7,
   "id": "7bb4502b-dfa2-4178-92d9-442471a37d56",
   "metadata": {},
   "outputs": [
    {
     "name": "stdin",
     "output_type": "stream",
     "text": [
      "enter the number 1\n"
     ]
    },
    {
     "name": "stdout",
     "output_type": "stream",
     "text": [
      "The number is palindrome!\n"
     ]
    }
   ],
   "source": [
    "# Answer 8 \n",
    "a = int(input(\"enter the number\"))\n",
    "t = a\n",
    "rev=0 \n",
    "while (a>0):\n",
    "    digit = a % 10 \n",
    "    rev = rev*10 + digit \n",
    "    a = a//10 \n",
    "if(t==rev):\n",
    "    print(\"The number is palindrome!\")\n",
    "else:\n",
    "    print(\"Not a palindrome!\")\n",
    "    \n",
    "    # Answer 8 is  completed"
   ]
  },
  {
   "cell_type": "markdown",
   "id": "3d93bd96-b259-422e-b458-6d07ab86807f",
   "metadata": {},
   "source": [
    "Q9. Write a code to print odd numbers from 1 to 100 using list comprehension.\n",
    "\n",
    "Note: Use a list comprehension to create a list from 1 to 100 and use another List comprehension to filter \n",
    "out odd numbers."
   ]
  },
  {
   "cell_type": "code",
   "execution_count": 45,
   "id": "1a8fabb5-66b8-48ff-ac0f-2971b074c60c",
   "metadata": {},
   "outputs": [],
   "source": [
    "# Answer 9\n",
    "odd_list = [ i  for i in range(1,101)] "
   ]
  },
  {
   "cell_type": "code",
   "execution_count": 47,
   "id": "38670b14-9179-4e95-a192-bc4a71bbd10a",
   "metadata": {},
   "outputs": [
    {
     "data": {
      "text/plain": [
       "[3,\n",
       " 6,\n",
       " 9,\n",
       " 12,\n",
       " 15,\n",
       " 18,\n",
       " 21,\n",
       " 24,\n",
       " 27,\n",
       " 30,\n",
       " 33,\n",
       " 36,\n",
       " 39,\n",
       " 42,\n",
       " 45,\n",
       " 48,\n",
       " 51,\n",
       " 54,\n",
       " 57,\n",
       " 60,\n",
       " 63,\n",
       " 66,\n",
       " 69,\n",
       " 72,\n",
       " 75,\n",
       " 78,\n",
       " 81,\n",
       " 84,\n",
       " 87,\n",
       " 90,\n",
       " 93,\n",
       " 96,\n",
       " 99]"
      ]
     },
     "execution_count": 47,
     "metadata": {},
     "output_type": "execute_result"
    }
   ],
   "source": [
    "[i for i in odd_list if  i % 3 == 0]\n",
    "# Answer 9 completed"
   ]
  },
  {
   "cell_type": "code",
   "execution_count": null,
   "id": "abf82ae4-deff-4474-b3cd-508906e31347",
   "metadata": {},
   "outputs": [],
   "source": []
  }
 ],
 "metadata": {
  "kernelspec": {
   "display_name": "Python 3 (ipykernel)",
   "language": "python",
   "name": "python3"
  },
  "language_info": {
   "codemirror_mode": {
    "name": "ipython",
    "version": 3
   },
   "file_extension": ".py",
   "mimetype": "text/x-python",
   "name": "python",
   "nbconvert_exporter": "python",
   "pygments_lexer": "ipython3",
   "version": "3.10.8"
  }
 },
 "nbformat": 4,
 "nbformat_minor": 5
}
